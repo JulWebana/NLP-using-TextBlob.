{
 "cells": [
  {
   "cell_type": "code",
   "execution_count": 1,
   "id": "4e442974",
   "metadata": {},
   "outputs": [
    {
     "name": "stdout",
     "output_type": "stream",
     "text": [
      "Requirement already satisfied: textblob in c:\\users\\user\\anaconda3.1\\lib\\site-packages (0.17.1)\n",
      "Requirement already satisfied: nltk>=3.1 in c:\\users\\user\\anaconda3.1\\lib\\site-packages (from textblob) (3.6.5)\n",
      "Requirement already satisfied: click in c:\\users\\user\\anaconda3.1\\lib\\site-packages (from nltk>=3.1->textblob) (8.0.3)\n",
      "Requirement already satisfied: joblib in c:\\users\\user\\anaconda3.1\\lib\\site-packages (from nltk>=3.1->textblob) (1.1.0)\n",
      "Requirement already satisfied: regex>=2021.8.3 in c:\\users\\user\\anaconda3.1\\lib\\site-packages (from nltk>=3.1->textblob) (2021.8.3)\n",
      "Requirement already satisfied: tqdm in c:\\users\\user\\anaconda3.1\\lib\\site-packages (from nltk>=3.1->textblob) (4.62.3)\n",
      "Requirement already satisfied: colorama in c:\\users\\user\\anaconda3.1\\lib\\site-packages (from click->nltk>=3.1->textblob) (0.4.4)\n",
      "Note: you may need to restart the kernel to use updated packages.\n"
     ]
    }
   ],
   "source": [
    "pip install textblob"
   ]
  },
  {
   "cell_type": "code",
   "execution_count": 2,
   "id": "992d0866",
   "metadata": {},
   "outputs": [],
   "source": [
    "from textblob import TextBlob"
   ]
  },
  {
   "cell_type": "code",
   "execution_count": 3,
   "id": "b4fd5e12",
   "metadata": {},
   "outputs": [],
   "source": [
    "import nltk"
   ]
  },
  {
   "cell_type": "code",
   "execution_count": 4,
   "id": "d0ef60f3",
   "metadata": {},
   "outputs": [
    {
     "name": "stderr",
     "output_type": "stream",
     "text": [
      "[nltk_data] Downloading package wordnet to\n",
      "[nltk_data]     C:\\Users\\user\\AppData\\Roaming\\nltk_data...\n",
      "[nltk_data]   Package wordnet is already up-to-date!\n",
      "[nltk_data] Downloading package brown to\n",
      "[nltk_data]     C:\\Users\\user\\AppData\\Roaming\\nltk_data...\n",
      "[nltk_data]   Package brown is already up-to-date!\n",
      "[nltk_data] Downloading package punkt to\n",
      "[nltk_data]     C:\\Users\\user\\AppData\\Roaming\\nltk_data...\n",
      "[nltk_data]   Package punkt is already up-to-date!\n"
     ]
    },
    {
     "data": {
      "text/plain": [
       "True"
      ]
     },
     "execution_count": 4,
     "metadata": {},
     "output_type": "execute_result"
    }
   ],
   "source": [
    "nltk.download(\"wordnet\")\n",
    "nltk.download(\"brown\")\n",
    "nltk.download('punkt')"
   ]
  },
  {
   "cell_type": "code",
   "execution_count": 5,
   "id": "787cf13e",
   "metadata": {},
   "outputs": [],
   "source": [
    "text1 = '''\n",
    "Over the years, I have often reflected upon Robert Frost’s poem.\n",
    "Choosing not to listen to my highly educated dad’s advice and attitude\n",
    "about money was a painful decision, but it was a decision that shaped\n",
    "the rest of my life.\n",
    "Once I made up my mind about whom to listen to, my education\n",
    "about money began. My rich dad taught me over a period of 30 years\n",
    "until I was 39 years old. He stopped once he realized that I knew and fully\n",
    "understood what he had been trying to drum into my often-thick skull.'''"
   ]
  },
  {
   "cell_type": "code",
   "execution_count": 6,
   "id": "63035df5",
   "metadata": {},
   "outputs": [],
   "source": [
    "#Create a TextBlob object\n",
    "blob = TextBlob(text1)"
   ]
  },
  {
   "cell_type": "code",
   "execution_count": 7,
   "id": "65b910ba",
   "metadata": {},
   "outputs": [
    {
     "data": {
      "text/plain": [
       "WordList(['robert frost', '’ s poem', 'choosing', 'dad ’ s advice', 'painful decision', 'rich dad', 'often-thick skull'])"
      ]
     },
     "execution_count": 7,
     "metadata": {},
     "output_type": "execute_result"
    }
   ],
   "source": [
    "#noun_phrases\n",
    "blob.noun_phrases"
   ]
  },
  {
   "cell_type": "markdown",
   "id": "b9afc67a",
   "metadata": {},
   "source": [
    "The sentiment function of textblob returns two properties, polarity, and subjectivity.\n",
    "\n",
    "Polarity is float which lies in the range of [-1,1] where 1 means positive statement and -1 means a negative statement. Subjective sentences generally refer to personal opinion, emotion or judgment whereas objective refers to factual information. Subjectivity is also a float which lies in the range of [0,1]."
   ]
  },
  {
   "cell_type": "code",
   "execution_count": 8,
   "id": "7cbe4851",
   "metadata": {},
   "outputs": [
    {
     "name": "stdout",
     "output_type": "stream",
     "text": [
      "-0.01624999999999998 0.5975\n"
     ]
    }
   ],
   "source": [
    "#Sentiment Analysis\n",
    "polarity = blob.sentiment[0]\n",
    "\n",
    "subjectivity = blob.sentiment[1]\n",
    "\n",
    "print(polarity, subjectivity)"
   ]
  },
  {
   "cell_type": "markdown",
   "id": "020c1805",
   "metadata": {},
   "source": [
    "We can see that polarity is -0.016, which means that the statement is bit negative and 0.59 subjectivity refers that mostly it is a public opinion and not a factual information."
   ]
  },
  {
   "cell_type": "code",
   "execution_count": 9,
   "id": "d51713c5",
   "metadata": {},
   "outputs": [
    {
     "name": "stdout",
     "output_type": "stream",
     "text": [
      "-0.01624999999999998 0.5975\n"
     ]
    }
   ],
   "source": [
    "#or this can also work!\n",
    "polarity = blob.polarity\n",
    "subjectivity = blob.subjectivity\n",
    "\n",
    "print(polarity, subjectivity)"
   ]
  },
  {
   "cell_type": "code",
   "execution_count": 10,
   "id": "df29f8b4",
   "metadata": {},
   "outputs": [
    {
     "data": {
      "text/plain": [
       "WordList(['Over', 'the', 'years', 'I', 'have', 'often', 'reflected', 'upon', 'Robert', 'Frost', '’', 's', 'poem', 'Choosing', 'not', 'to', 'listen', 'to', 'my', 'highly', 'educated', 'dad', '’', 's', 'advice', 'and', 'attitude', 'about', 'money', 'was', 'a', 'painful', 'decision', 'but', 'it', 'was', 'a', 'decision', 'that', 'shaped', 'the', 'rest', 'of', 'my', 'life', 'Once', 'I', 'made', 'up', 'my', 'mind', 'about', 'whom', 'to', 'listen', 'to', 'my', 'education', 'about', 'money', 'began', 'My', 'rich', 'dad', 'taught', 'me', 'over', 'a', 'period', 'of', '30', 'years', 'until', 'I', 'was', '39', 'years', 'old', 'He', 'stopped', 'once', 'he', 'realized', 'that', 'I', 'knew', 'and', 'fully', 'understood', 'what', 'he', 'had', 'been', 'trying', 'to', 'drum', 'into', 'my', 'often-thick', 'skull'])"
      ]
     },
     "execution_count": 10,
     "metadata": {},
     "output_type": "execute_result"
    }
   ],
   "source": [
    "#Tokenization, it is a NLP technique to split text data into list of single words or sentences\n",
    "\n",
    "blob.words"
   ]
  },
  {
   "cell_type": "code",
   "execution_count": 11,
   "id": "085e455b",
   "metadata": {},
   "outputs": [
    {
     "data": {
      "text/plain": [
       "[Sentence(\"\n",
       " Over the years, I have often reflected upon Robert Frost’s poem.\"),\n",
       " Sentence(\"Choosing not to listen to my highly educated dad’s advice and attitude\n",
       " about money was a painful decision, but it was a decision that shaped\n",
       " the rest of my life.\"),\n",
       " Sentence(\"Once I made up my mind about whom to listen to, my education\n",
       " about money began.\"),\n",
       " Sentence(\"My rich dad taught me over a period of 30 years\n",
       " until I was 39 years old.\"),\n",
       " Sentence(\"He stopped once he realized that I knew and fully\n",
       " understood what he had been trying to drum into my often-thick skull.\")]"
      ]
     },
     "execution_count": 11,
     "metadata": {},
     "output_type": "execute_result"
    }
   ],
   "source": [
    "blob.sentences"
   ]
  },
  {
   "cell_type": "code",
   "execution_count": 12,
   "id": "e83cf97b",
   "metadata": {},
   "outputs": [
    {
     "name": "stdout",
     "output_type": "stream",
     "text": [
      "organize\n",
      "go\n"
     ]
    }
   ],
   "source": [
    "# Words Lemmatization :\n",
    "# lemmatization is a NLP technique to reduce inflectional or derivational forms of a word to be the base form so that \n",
    "# they can be analyzed as one single word.\n",
    "\n",
    "from textblob import Word\n",
    "\n",
    "word = \"organizes\"\n",
    "word1 = \"went\" \n",
    "\n",
    "\n",
    "# Convert a Python string to a textblob Word()\n",
    "blob_word = Word(word)\n",
    "\n",
    "print(blob_word.lemmatize(\"v\"))\n",
    "print(Word(word1).lemmatize(\"v\"))"
   ]
  },
  {
   "cell_type": "code",
   "execution_count": 13,
   "id": "23e9b29c",
   "metadata": {},
   "outputs": [],
   "source": [
    "#Spell Check\n",
    "\n",
    "blob = TextBlob(\"Walcome to my House\")"
   ]
  },
  {
   "cell_type": "code",
   "execution_count": 14,
   "id": "ce2795aa",
   "metadata": {},
   "outputs": [
    {
     "data": {
      "text/plain": [
       "TextBlob(\"Welcome to my House\")"
      ]
     },
     "execution_count": 14,
     "metadata": {},
     "output_type": "execute_result"
    }
   ],
   "source": [
    "blob.correct()"
   ]
  },
  {
   "cell_type": "code",
   "execution_count": 15,
   "id": "7a0c7685",
   "metadata": {},
   "outputs": [
    {
     "data": {
      "text/plain": [
       "TextBlob(\"Belle est meilleure que laide. Explicite vaut mieux que implicite.\")"
      ]
     },
     "execution_count": 15,
     "metadata": {},
     "output_type": "execute_result"
    }
   ],
   "source": [
    "#Translation\n",
    "blob = TextBlob(\"Beautiful is better than ugly. Explicit is better than implicit.\")\n",
    "\n",
    "# Translate to French from English\n",
    "blob.translate(to=\"fr\")"
   ]
  },
  {
   "cell_type": "code",
   "execution_count": 16,
   "id": "2869d68e",
   "metadata": {},
   "outputs": [
    {
     "data": {
      "text/plain": [
       "TextBlob(\"Schön ist besser als hässlich. Explizit ist besser als implizit.\")"
      ]
     },
     "execution_count": 16,
     "metadata": {},
     "output_type": "execute_result"
    }
   ],
   "source": [
    "# Translate to German from English\n",
    "blob.translate(to=\"De\")"
   ]
  },
  {
   "cell_type": "code",
   "execution_count": 17,
   "id": "341be67e",
   "metadata": {},
   "outputs": [
    {
     "data": {
      "text/plain": [
       "TextBlob(\"Bello è meglio di brutto. Esplicito è meglio di implicito.\")"
      ]
     },
     "execution_count": 17,
     "metadata": {},
     "output_type": "execute_result"
    }
   ],
   "source": [
    "# Translate to Italian from English\n",
    "blob.translate(to=\"It\")"
   ]
  },
  {
   "cell_type": "code",
   "execution_count": 18,
   "id": "5c14b063",
   "metadata": {},
   "outputs": [
    {
     "data": {
      "text/plain": [
       "TextBlob(\"Hermoso es mejor que feo. Explícito es mejor que implícito.\")"
      ]
     },
     "execution_count": 18,
     "metadata": {},
     "output_type": "execute_result"
    }
   ],
   "source": [
    "# Translate to Spanish from English\n",
    "blob.translate(to=\"Es\")"
   ]
  },
  {
   "cell_type": "code",
   "execution_count": null,
   "id": "d62650e4",
   "metadata": {},
   "outputs": [],
   "source": []
  }
 ],
 "metadata": {
  "kernelspec": {
   "display_name": "Python 3 (ipykernel)",
   "language": "python",
   "name": "python3"
  },
  "language_info": {
   "codemirror_mode": {
    "name": "ipython",
    "version": 3
   },
   "file_extension": ".py",
   "mimetype": "text/x-python",
   "name": "python",
   "nbconvert_exporter": "python",
   "pygments_lexer": "ipython3",
   "version": "3.9.7"
  }
 },
 "nbformat": 4,
 "nbformat_minor": 5
}
